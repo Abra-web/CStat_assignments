{
 "cells": [
  {
   "cell_type": "code",
   "execution_count": 1,
   "outputs": [
    {
     "name": "stdout",
     "output_type": "stream",
     "text": [
      "Collecting statsmodels\n",
      "  Obtaining dependency information for statsmodels from https://files.pythonhosted.org/packages/71/ba/671589067df73eb2904f77766d4f966043fa503276dd100092c1009648c5/statsmodels-0.14.1-cp39-cp39-win_amd64.whl.metadata\n",
      "  Downloading statsmodels-0.14.1-cp39-cp39-win_amd64.whl.metadata (9.8 kB)\n",
      "Requirement already satisfied: numpy<2,>=1.18 in c:\\users\\danpa\\pycharmprojects\\cstat_assignments\\venv\\lib\\site-packages (from statsmodels) (1.26.4)\n",
      "Requirement already satisfied: scipy!=1.9.2,>=1.4 in c:\\users\\danpa\\pycharmprojects\\cstat_assignments\\venv\\lib\\site-packages (from statsmodels) (1.12.0)\n",
      "Requirement already satisfied: pandas!=2.1.0,>=1.0 in c:\\users\\danpa\\pycharmprojects\\cstat_assignments\\venv\\lib\\site-packages (from statsmodels) (2.2.0)\n",
      "Collecting patsy>=0.5.4 (from statsmodels)\n",
      "  Obtaining dependency information for patsy>=0.5.4 from https://files.pythonhosted.org/packages/43/f3/1d311a09c34f14f5973bb0bb0dc3a6e007e1eda90b5492d082689936ca51/patsy-0.5.6-py2.py3-none-any.whl.metadata\n",
      "  Downloading patsy-0.5.6-py2.py3-none-any.whl.metadata (3.5 kB)\n",
      "Requirement already satisfied: packaging>=21.3 in c:\\users\\danpa\\pycharmprojects\\cstat_assignments\\venv\\lib\\site-packages (from statsmodels) (23.2)\n",
      "Requirement already satisfied: python-dateutil>=2.8.2 in c:\\users\\danpa\\pycharmprojects\\cstat_assignments\\venv\\lib\\site-packages (from pandas!=2.1.0,>=1.0->statsmodels) (2.8.2)\n",
      "Requirement already satisfied: pytz>=2020.1 in c:\\users\\danpa\\pycharmprojects\\cstat_assignments\\venv\\lib\\site-packages (from pandas!=2.1.0,>=1.0->statsmodels) (2024.1)\n",
      "Requirement already satisfied: tzdata>=2022.7 in c:\\users\\danpa\\pycharmprojects\\cstat_assignments\\venv\\lib\\site-packages (from pandas!=2.1.0,>=1.0->statsmodels) (2024.1)\n",
      "Requirement already satisfied: six in c:\\users\\danpa\\pycharmprojects\\cstat_assignments\\venv\\lib\\site-packages (from patsy>=0.5.4->statsmodels) (1.16.0)\n",
      "Downloading statsmodels-0.14.1-cp39-cp39-win_amd64.whl (10.0 MB)\n",
      "   ---------------------------------------- 0.0/10.0 MB ? eta -:--:--\n",
      "    --------------------------------------- 0.2/10.0 MB 4.1 MB/s eta 0:00:03\n",
      "   - -------------------------------------- 0.3/10.0 MB 3.5 MB/s eta 0:00:03\n",
      "   -- ------------------------------------- 0.6/10.0 MB 3.8 MB/s eta 0:00:03\n",
      "   -- ------------------------------------- 0.7/10.0 MB 3.8 MB/s eta 0:00:03\n",
      "   --- ------------------------------------ 0.9/10.0 MB 3.8 MB/s eta 0:00:03\n",
      "   ---- ----------------------------------- 1.1/10.0 MB 3.8 MB/s eta 0:00:03\n",
      "   ----- ---------------------------------- 1.3/10.0 MB 3.8 MB/s eta 0:00:03\n",
      "   ----- ---------------------------------- 1.4/10.0 MB 3.8 MB/s eta 0:00:03\n",
      "   ------ --------------------------------- 1.6/10.0 MB 3.9 MB/s eta 0:00:03\n",
      "   ------- -------------------------------- 1.9/10.0 MB 4.0 MB/s eta 0:00:03\n",
      "   -------- ------------------------------- 2.0/10.0 MB 3.9 MB/s eta 0:00:03\n",
      "   --------- ------------------------------ 2.3/10.0 MB 4.0 MB/s eta 0:00:02\n",
      "   ---------- ----------------------------- 2.6/10.0 MB 4.0 MB/s eta 0:00:02\n",
      "   ----------- ---------------------------- 2.9/10.0 MB 4.1 MB/s eta 0:00:02\n",
      "   ------------ --------------------------- 3.1/10.0 MB 4.2 MB/s eta 0:00:02\n",
      "   ------------- -------------------------- 3.3/10.0 MB 4.2 MB/s eta 0:00:02\n",
      "   ------------- -------------------------- 3.4/10.0 MB 4.1 MB/s eta 0:00:02\n",
      "   -------------- ------------------------- 3.7/10.0 MB 4.2 MB/s eta 0:00:02\n",
      "   ---------------- ----------------------- 4.1/10.0 MB 4.4 MB/s eta 0:00:02\n",
      "   ----------------- ---------------------- 4.4/10.0 MB 4.5 MB/s eta 0:00:02\n",
      "   ------------------ --------------------- 4.6/10.0 MB 4.5 MB/s eta 0:00:02\n",
      "   ------------------ --------------------- 4.7/10.0 MB 4.5 MB/s eta 0:00:02\n",
      "   -------------------- ------------------- 5.1/10.0 MB 4.6 MB/s eta 0:00:02\n",
      "   --------------------- ------------------ 5.4/10.0 MB 4.7 MB/s eta 0:00:01\n",
      "   ----------------------- ---------------- 5.8/10.0 MB 4.8 MB/s eta 0:00:01\n",
      "   ----------------------- ---------------- 6.0/10.0 MB 4.8 MB/s eta 0:00:01\n",
      "   ------------------------ --------------- 6.1/10.0 MB 4.7 MB/s eta 0:00:01\n",
      "   ------------------------- -------------- 6.4/10.0 MB 4.8 MB/s eta 0:00:01\n",
      "   -------------------------- ------------- 6.6/10.0 MB 4.7 MB/s eta 0:00:01\n",
      "   --------------------------- ------------ 6.8/10.0 MB 4.7 MB/s eta 0:00:01\n",
      "   ---------------------------- ----------- 7.0/10.0 MB 4.7 MB/s eta 0:00:01\n",
      "   ---------------------------- ----------- 7.3/10.0 MB 4.7 MB/s eta 0:00:01\n",
      "   ------------------------------ --------- 7.5/10.0 MB 4.7 MB/s eta 0:00:01\n",
      "   ------------------------------- -------- 7.8/10.0 MB 4.8 MB/s eta 0:00:01\n",
      "   ------------------------------- -------- 8.0/10.0 MB 4.7 MB/s eta 0:00:01\n",
      "   --------------------------------- ------ 8.4/10.0 MB 4.8 MB/s eta 0:00:01\n",
      "   ---------------------------------- ----- 8.8/10.0 MB 4.8 MB/s eta 0:00:01\n",
      "   ------------------------------------ --- 9.0/10.0 MB 4.8 MB/s eta 0:00:01\n",
      "   ------------------------------------- -- 9.4/10.0 MB 4.8 MB/s eta 0:00:01\n",
      "   ---------------------------------------  9.8/10.0 MB 4.8 MB/s eta 0:00:01\n",
      "   ---------------------------------------  10.0/10.0 MB 4.8 MB/s eta 0:00:01\n",
      "   ---------------------------------------- 10.0/10.0 MB 4.8 MB/s eta 0:00:00\n",
      "Downloading patsy-0.5.6-py2.py3-none-any.whl (233 kB)\n",
      "   ---------------------------------------- 0.0/233.9 kB ? eta -:--:--\n",
      "   ----------------------------- ---------- 174.1/233.9 kB 5.1 MB/s eta 0:00:01\n",
      "   ---------------------------------------- 233.9/233.9 kB 4.8 MB/s eta 0:00:00\n",
      "Installing collected packages: patsy, statsmodels\n",
      "Successfully installed patsy-0.5.6 statsmodels-0.14.1\n"
     ]
    },
    {
     "name": "stderr",
     "output_type": "stream",
     "text": [
      "\n",
      "[notice] A new release of pip is available: 23.2.1 -> 24.0\n",
      "[notice] To update, run: python.exe -m pip install --upgrade pip\n"
     ]
    }
   ],
   "source": [
    "!pip install statsmodels"
   ],
   "metadata": {
    "collapsed": false,
    "ExecuteTime": {
     "end_time": "2024-03-19T15:02:45.087144700Z",
     "start_time": "2024-03-19T15:02:34.506111400Z"
    }
   },
   "id": "90f8acd56d7b9be3"
  },
  {
   "cell_type": "code",
   "execution_count": null,
   "outputs": [],
   "source": [
    "import numpy as np\n",
    "from scipy.stats import bernoulli\n",
    "import statsmodels.api as sm\n",
    "\n",
    "def simulate_ar(n, p, beta=0.5):\n",
    "    \"\"\"\n",
    "    Simulate an AR(1) process.\n",
    "    n: Number of observations\n",
    "    p: Number of variables\n",
    "    phi: AR(1) coefficient\n",
    "    \"\"\"\n",
    "    X = np.zeros((n, p))\n",
    "    for i in range(p):\n",
    "        X[0, i] = np.random.normal()\n",
    "        for j in range(1, n):\n",
    "            noise = np.random.normal()\n",
    "            X[j, i] = beta * X[j-1, i] + noise\n",
    "    return X\n",
    "\n",
    "def simulate_response_setting_1(X):\n",
    "    \"\"\"\n",
    "    Simulate response Y for Setting 1: Y | X ~ Bernoulli(0.5)\n",
    "    \"\"\"\n",
    "    return bernoulli.rvs(0.5, size=X.shape[0])\n",
    "\n",
    "def simulate_response_setting_2(X):\n",
    "    \"\"\"\n",
    "    Simulate response Y for Setting 2: Y | X ~ Bernoulli(logit(0.08*(X2 + ... + X21)))\n",
    "    \"\"\"\n",
    "    linear_combination = 0.08 * np.sum(X[:, 1:21], axis=1)\n",
    "    probability = 1 / (1 + np.exp(-linear_combination))\n",
    "    return bernoulli.rvs(probability)\n",
    "\n",
    "# Parameters\n",
    "n = 500\n",
    "p = 200\n",
    "\n",
    "# Simulate AR(1) process\n",
    "X = simulate_ar(n, p)\n",
    "\n",
    "# Simulate responses for both settings\n",
    "Y_setting_1 = simulate_response_setting_1(X)\n",
    "Y_setting_2 = simulate_response_setting_2(X)\n",
    "\n",
    "# Example: Fit a logistic regression model for Setting 1 (similarly can be done for Setting 2)\n",
    "model_setting_1 = sm.Logit(Y_setting_1, sm.add_constant(X)).fit(disp=0)\n",
    "print(model_setting_1.summary())\n",
    "\n"
   ],
   "metadata": {
    "collapsed": false
   },
   "id": "eb49c579f3f7f0a"
  },
  {
   "cell_type": "code",
   "execution_count": null,
   "outputs": [],
   "source": [
    "\n",
    "\n",
    "\n",
    "\n",
    "\n",
    "\n",
    "\n",
    "\n",
    "\n",
    "\n"
   ],
   "metadata": {
    "collapsed": false
   },
   "id": "5f25b46f51319061"
  }
 ],
 "metadata": {
  "kernelspec": {
   "display_name": "Python 3",
   "language": "python",
   "name": "python3"
  },
  "language_info": {
   "codemirror_mode": {
    "name": "ipython",
    "version": 2
   },
   "file_extension": ".py",
   "mimetype": "text/x-python",
   "name": "python",
   "nbconvert_exporter": "python",
   "pygments_lexer": "ipython2",
   "version": "2.7.6"
  }
 },
 "nbformat": 4,
 "nbformat_minor": 5
}
